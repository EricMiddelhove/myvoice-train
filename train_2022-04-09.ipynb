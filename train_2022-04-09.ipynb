{
 "cells": [
  {
   "cell_type": "code",
   "execution_count": 1,
   "id": "6184722c",
   "metadata": {},
   "outputs": [],
   "source": [
    "import tensorflow as tf\n",
    "import numpy as np\n",
    "import os\n",
    "\n",
    "from tensorflow.keras import Sequential\n",
    "from tensorflow.keras.layers import Dense, AveragePooling1D, Conv1D, DenseFeatures, Input, Flatten, GlobalAveragePooling1D"
   ]
  },
  {
   "cell_type": "markdown",
   "id": "6ab823ec",
   "metadata": {},
   "source": [
    "Load all gestures from disk and label them accordingly"
   ]
  },
  {
   "cell_type": "code",
   "execution_count": null,
   "id": "b346c095",
   "metadata": {},
   "outputs": [],
   "source": [
    "dataset_dir = \"gestures\"\n",
    "\n",
    "gestures = [\"Computer\", \"Elephant\", \"Sorry\", \"No-Sign\"]\n",
    "\n",
    "dataset_values = []\n",
    "dataset_labels = []\n",
    "\n",
    "for gesture in gestures:\n",
    "    for filename in os.listdir(f\"{dataset_dir}/{gesture}\"):\n",
    "        with open(os.path.join(f\"{dataset_dir}/{gesture}\", filename), 'r') as file:\n",
    "            file_data = []\n",
    "\n",
    "            text = file.read()\n",
    "            lines = text.splitlines()\n",
    "\n",
    "            for line in lines:\n",
    "                int_values = []\n",
    "                for value in line.split():\n",
    "                    int_values.append(int(value))\n",
    "\n",
    "                file_data.append(int_values)\n",
    "\n",
    "            dataset_values.append(file_data)\n",
    "\n",
    "            if gesture == \"Computer\":\n",
    "                dataset_labels.append([1, 0, 0, 0])\n",
    "            elif gesture == \"Elephant\":\n",
    "                dataset_labels.append([0, 1, 0, 0])\n",
    "            elif gesture == \"Sorry\":\n",
    "                dataset_labels.append([0, 0, 1, 0])\n",
    "            elif gesture == \"No-Sign\":\n",
    "                dataset_labels.append([0, 0, 0, 1])\n",
    "            else:\n",
    "                print(\"You did not change the labeling of the dataset you blithering idiot\")\n",
    "\n",
    "dataset_values = np.array(dataset_values)\n",
    "dataset_labels = np.array(dataset_labels)\n",
    "\n",
    "print(dataset_values.shape)\n",
    "print(dataset_labels.shape)"
   ]
  },
  {
   "cell_type": "markdown",
   "id": "c6da2d42",
   "metadata": {},
   "source": [
    "Load numpy array into tensorflow dataset"
   ]
  },
  {
   "cell_type": "code",
   "execution_count": null,
   "id": "9ffe0ad7",
   "metadata": {},
   "outputs": [],
   "source": [
    "BATCH_SIZE = 64\n",
    "SHUFFLE_BUFFER_SIZE = 2000\n",
    "VALIDATION_SIZE = 300\n",
    "\n",
    "dataset = tf.data.Dataset.from_tensor_slices((dataset_values, dataset_labels))\n",
    "dataset = dataset.shuffle(SHUFFLE_BUFFER_SIZE)\n",
    "\n",
    "train_dataset = dataset.skip(VALIDATION_SIZE).batch(BATCH_SIZE)\n",
    "validation_dataset = dataset.take(VALIDATION_SIZE).batch(BATCH_SIZE)  \n",
    "\n",
    "# for values, labels in train_dataset.take(1):\n",
    "    # print(labels.numpy(), values.numpy())"
   ]
  },
  {
   "cell_type": "code",
   "execution_count": null,
   "id": "1c70548f",
   "metadata": {},
   "outputs": [],
   "source": [
    "model = Sequential([\n",
    "    Conv1D(filters = 150, strides = 3, kernel_size=70, activation='relu', input_shape=(200, 6)),\n",
    "    GlobalAveragePooling1D(),\n",
    "    Dense(100, activation='relu'),\n",
    "    Dense(20, activation='relu'),\n",
    "    Dense(4, activation='softmax')\n",
    "])\n",
    "\n",
    "model.compile(optimizer='adam', loss=tf.keras.losses.CategoricalCrossentropy(), metrics=['accuracy'])\n",
    "model.build(input_shape=(1584, 200, 6))\n",
    "model.summary()\n",
    "model.fit(train_dataset, validation_data=validation_dataset, epochs=25)\n",
    "\n",
    "model.save(\"./model\", save_format='tf')\n",
    "model.save(\"./model.h5\", save_format='h5')\n"
   ]
  },
  {
   "cell_type": "code",
   "execution_count": 3,
   "id": "9124536f",
   "metadata": {},
   "outputs": [
    {
     "name": "stdout",
     "output_type": "stream",
     "text": [
      "Metal device set to: Apple M1 Max\n",
      "\n",
      "systemMemory: 32.00 GB\n",
      "maxCacheSize: 10.67 GB\n",
      "\n"
     ]
    },
    {
     "name": "stderr",
     "output_type": "stream",
     "text": [
      "2022-04-18 12:36:11.043436: I tensorflow/core/common_runtime/pluggable_device/pluggable_device_factory.cc:305] Could not identify NUMA node of platform GPU ID 0, defaulting to 0. Your kernel may not have been built with NUMA support.\n",
      "2022-04-18 12:36:11.043784: I tensorflow/core/common_runtime/pluggable_device/pluggable_device_factory.cc:271] Created TensorFlow device (/job:localhost/replica:0/task:0/device:GPU:0 with 0 MB memory) -> physical PluggableDevice (device: 0, name: METAL, pci bus id: <undefined>)\n",
      "2022-04-18 12:36:11.196444: W tensorflow/compiler/mlir/lite/python/tf_tfl_flatbuffer_helpers.cc:357] Ignored output_format.\n",
      "WARNING:absl:Buffer deduplication procedure will be skipped when flatbuffer library is not properly loaded\n",
      "2022-04-18 12:36:11.196462: W tensorflow/compiler/mlir/lite/python/tf_tfl_flatbuffer_helpers.cc:360] Ignored drop_control_dependency.\n",
      "2022-04-18 12:36:11.197870: I tensorflow/cc/saved_model/reader.cc:43] Reading SavedModel from: models/0.9900/model\n",
      "2022-04-18 12:36:11.198591: I tensorflow/cc/saved_model/reader.cc:78] Reading meta graph with tags { serve }\n",
      "2022-04-18 12:36:11.198596: I tensorflow/cc/saved_model/reader.cc:119] Reading SavedModel debug info (if present) from: models/0.9900/model\n",
      "2022-04-18 12:36:11.202927: I tensorflow/cc/saved_model/loader.cc:228] Restoring SavedModel bundle.\n",
      "2022-04-18 12:36:11.205124: W tensorflow/core/platform/profile_utils/cpu_utils.cc:128] Failed to get CPU frequency: 0 Hz\n",
      "2022-04-18 12:36:11.248591: I tensorflow/cc/saved_model/loader.cc:212] Running initialization op on SavedModel bundle at path: models/0.9900/model\n",
      "2022-04-18 12:36:11.256146: I tensorflow/cc/saved_model/loader.cc:301] SavedModel load for tags { serve }; Status: success: OK. Took 58277 microseconds.\n",
      "2022-04-18 12:36:11.286024: I tensorflow/compiler/mlir/tensorflow/utils/dump_mlir_util.cc:237] disabling MLIR crash reproducer, set env var `MLIR_CRASH_REPRODUCER_DIRECTORY` to enable.\n"
     ]
    },
    {
     "data": {
      "text/plain": [
       "324836"
      ]
     },
     "execution_count": 3,
     "metadata": {},
     "output_type": "execute_result"
    }
   ],
   "source": [
    "modeldir = 'models/0.9900/model'\n",
    "converter = tf.lite.TFLiteConverter.from_saved_model(modeldir)\n",
    "tflite_model = converter.convert()\n",
    "\n",
    "open(\"model.tflite\", \"wb\").write(tflite_model)"
   ]
  }
 ],
 "metadata": {
  "interpreter": {
   "hash": "b0fa6594d8f4cbf19f97940f81e996739fb7646882a419484c72d19e05852a7e"
  },
  "kernelspec": {
   "display_name": "Python 3.9.10 64-bit",
   "language": "python",
   "name": "python3"
  },
  "language_info": {
   "codemirror_mode": {
    "name": "ipython",
    "version": 3
   },
   "file_extension": ".py",
   "mimetype": "text/x-python",
   "name": "python",
   "nbconvert_exporter": "python",
   "pygments_lexer": "ipython3",
   "version": "3.8.13"
  }
 },
 "nbformat": 4,
 "nbformat_minor": 5
}
