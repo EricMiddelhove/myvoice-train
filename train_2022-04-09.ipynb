{
 "cells": [
  {
   "cell_type": "code",
   "execution_count": 35,
   "id": "6184722c",
   "metadata": {},
   "outputs": [],
   "source": [
    "import tensorflow_datasets as tfds\n",
    "import tensorflow as tf\n",
    "import numpy as np\n",
    "import os"
   ]
  },
  {
   "cell_type": "markdown",
   "id": "7b0b65a0",
   "metadata": {},
   "source": [
    "Defining batch size & random seed. "
   ]
  },
  {
   "cell_type": "code",
   "execution_count": 36,
   "id": "66e4cac6",
   "metadata": {},
   "outputs": [],
   "source": [
    "dataset_dir = \"gestures\"\n",
    "batch_size=1024\n",
    "seed=123"
   ]
  },
  {
   "cell_type": "markdown",
   "id": "6ab823ec",
   "metadata": {},
   "source": [
    "Load all gestures from disk and label them accordingly"
   ]
  },
  {
   "cell_type": "code",
   "execution_count": 37,
   "id": "b346c095",
   "metadata": {},
   "outputs": [],
   "source": [
    "gestures = {\n",
    "  \"Computer\": [],\n",
    "  \"Elephant\": [],\n",
    "  \"Sorry\": [],\n",
    "  \"No-Sign\": [],\n",
    "}\n",
    "\n",
    "dataset_values = []\n",
    "dataset_labels = []\n",
    "\n",
    "for gesture in gestures:\n",
    "  for filename in os.listdir(f\"gestures/{gesture}\"):\n",
    "    with open(os.path.join(f\"gestures/{gesture}\", filename), 'r') as f:\n",
    "        text = f.read()\n",
    "        lines = text.splitlines()\n",
    "        for line in lines:\n",
    "          \n",
    "          intValues = []\n",
    "          for value in line.split():\n",
    "            value = int(value)\n",
    "            intValues.append(value)\n",
    "\n",
    "          gestures[gesture].append(intValues)\n",
    "        \n",
    "          if gesture == \"Computer\":\n",
    "            dataset_labels.append(np.array([1,0,0,0]))\n",
    "          elif gesture == \"Elephant\":\n",
    "            dataset_labels.append(np.array([0,1,0,0]))\n",
    "          elif gesture == \"Sorry\":\n",
    "            dataset_labels.append(np.array([0,0,1,0]))\n",
    "          elif gesture == \"No-Sign\":\n",
    "            dataset_labels.append(np.array([0,0,0,1]))\n",
    "          else:\n",
    "            print(\"You did not change the labeling of the dataset you blithering idiot\")\n",
    "\n",
    "  gestures[gesture] = np.array(gestures[gesture])\n",
    "  dataset_values.append(np.array(gestures[gesture]))\n",
    "\n",
    "dataset_values = np.array(dataset_values)\n",
    "dataset_labels = np.array(dataset_labels)\n",
    "\n"
   ]
  }
 ],
 "metadata": {
  "interpreter": {
   "hash": "b0fa6594d8f4cbf19f97940f81e996739fb7646882a419484c72d19e05852a7e"
  },
  "kernelspec": {
   "display_name": "Python 3.9.10 64-bit",
   "language": "python",
   "name": "python3"
  },
  "language_info": {
   "codemirror_mode": {
    "name": "ipython",
    "version": 3
   },
   "file_extension": ".py",
   "mimetype": "text/x-python",
   "name": "python",
   "nbconvert_exporter": "python",
   "pygments_lexer": "ipython3",
   "version": "3.8.13"
  }
 },
 "nbformat": 4,
 "nbformat_minor": 5
}
