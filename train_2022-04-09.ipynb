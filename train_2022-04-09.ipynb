{
 "cells": [
  {
   "cell_type": "code",
   "execution_count": 1,
   "id": "6184722c",
   "metadata": {},
   "outputs": [],
   "source": [
    "import tensorflow_datasets as tfds\n",
    "import tensorflow as tf\n",
    "import numpy as np\n",
    "import os"
   ]
  },
  {
   "cell_type": "markdown",
   "id": "6ab823ec",
   "metadata": {},
   "source": [
    "Load all gestures from disk and label them accordingly"
   ]
  },
  {
   "cell_type": "code",
   "execution_count": 2,
   "id": "b346c095",
   "metadata": {},
   "outputs": [],
   "source": [
    "dataset_dir = \"gestures\"\n",
    "\n",
    "gestures = [\"Computer\", \"Elephant\", \"Sorry\", \"No-Sign\"]\n",
    "\n",
    "dataset_values = []\n",
    "dataset_labels = []\n",
    "\n",
    "for gesture in gestures:\n",
    "    for filename in os.listdir(f\"{dataset_dir}/{gesture}\"):\n",
    "        with open(os.path.join(f\"{dataset_dir}/{gesture}\", filename), 'r') as file:\n",
    "            file_data = []\n",
    "\n",
    "            text = file.read()\n",
    "            lines = text.splitlines()\n",
    "\n",
    "            for line in lines:\n",
    "                int_values = []\n",
    "                for value in line.split():\n",
    "                    int_values.append(int(value))\n",
    "\n",
    "                file_data.append(int_values)\n",
    "\n",
    "            dataset_values.append(file_data)\n",
    "\n",
    "            if gesture == \"Computer\":\n",
    "                dataset_labels.append([1, 0, 0, 0])\n",
    "            elif gesture == \"Elephant\":\n",
    "                dataset_labels.append([0, 1, 0, 0])\n",
    "            elif gesture == \"Sorry\":\n",
    "                dataset_labels.append([0, 0, 1, 0])\n",
    "            elif gesture == \"No-Sign\":\n",
    "                dataset_labels.append([0, 0, 0, 1])\n",
    "            else:\n",
    "                print(\"You did not change the labeling of the dataset you blithering idiot\")\n",
    "\n",
    "dataset_values = np.array(dataset_values)\n",
    "dataset_labels = np.array(dataset_labels)"
   ]
  },
  {
   "cell_type": "markdown",
   "id": "c6da2d42",
   "metadata": {},
   "source": [
    "Load numpy array into tensorflow dataset"
   ]
  },
  {
   "cell_type": "code",
   "execution_count": null,
   "id": "9ffe0ad7",
   "metadata": {},
   "outputs": [],
   "source": [
    "BATCH_SIZE = 64\n",
    "SHUFFLE_BUFFER_SIZE = 2000\n",
    "VALIDATION_SIZE = 100\n",
    "\n",
    "dataset = tf.data.Dataset.from_tensor_slices((dataset_values, dataset_labels))\n",
    "dataset = dataset.shuffle(SHUFFLE_BUFFER_SIZE)\n",
    "\n",
    "train_dataset = dataset.skip(VALIDATION_SIZE)\n",
    "validation_dataset = dataset.take(VALIDATION_SIZE)\n",
    "\n",
    "for values, labels in train_dataset.take(1):\n",
    "    print(labels.numpy(), values.numpy())"
   ]
  }
 ],
 "metadata": {
  "interpreter": {
   "hash": "b0fa6594d8f4cbf19f97940f81e996739fb7646882a419484c72d19e05852a7e"
  },
  "kernelspec": {
   "display_name": "Python 3.9.10 64-bit",
   "language": "python",
   "name": "python3"
  },
  "language_info": {
   "codemirror_mode": {
    "name": "ipython",
    "version": 3
   },
   "file_extension": ".py",
   "mimetype": "text/x-python",
   "name": "python",
   "nbconvert_exporter": "python",
   "pygments_lexer": "ipython3",
   "version": "3.8.13"
  }
 },
 "nbformat": 4,
 "nbformat_minor": 5
}
