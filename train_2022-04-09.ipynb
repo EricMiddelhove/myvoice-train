{
 "cells": [
  {
   "cell_type": "code",
   "execution_count": null,
   "id": "6184722c",
   "metadata": {},
   "outputs": [],
   "source": [
    "import tensorflow_datasets as tfds\n",
    "import tensorflow as tf\n",
    "import os"
   ]
  },
  {
   "cell_type": "markdown",
   "id": "7b0b65a0",
   "metadata": {},
   "source": [
    "Defining batch size & random seed. "
   ]
  },
  {
   "cell_type": "code",
   "execution_count": null,
   "id": "66e4cac6",
   "metadata": {},
   "outputs": [],
   "source": [
    "dataset_dir = \"gestures\"\n",
    "batch_size=1024\n",
    "seed=123"
   ]
  },
  {
   "cell_type": "markdown",
   "id": "6ab823ec",
   "metadata": {},
   "source": [
    "Load all gestures from disk."
   ]
  },
  {
   "cell_type": "code",
   "execution_count": null,
   "id": "b346c095",
   "metadata": {},
   "outputs": [],
   "source": [
    "gestures = {\n",
    "  \"Computer\": [],\n",
    "  \"Elephant\": [],\n",
    "  \"Sorry\": [],\n",
    "  \"No-Sign\": [],\n",
    "}\n",
    "\n",
    "for gesture in gestures:\n",
    "  for filename in os.listdir(f\"gestures/{gesture}\"):\n",
    "    with open(os.path.join(f\"gestures/{gesture}\", filename), 'r') as f:\n",
    "        text = f.read()\n",
    "        lines = text.splitlines()\n",
    "        for line in lines:\n",
    "          gestures[gesture].append(line.split())"
   ]
  }
 ],
 "metadata": {
  "interpreter": {
   "hash": "b0fa6594d8f4cbf19f97940f81e996739fb7646882a419484c72d19e05852a7e"
  },
  "kernelspec": {
   "display_name": "Python 3.9.10 64-bit",
   "language": "python",
   "name": "python3"
  },
  "language_info": {
   "codemirror_mode": {
    "name": "ipython",
    "version": 3
   },
   "file_extension": ".py",
   "mimetype": "text/x-python",
   "name": "python",
   "nbconvert_exporter": "python",
   "pygments_lexer": "ipython3",
   "version": "3.8.13"
  }
 },
 "nbformat": 4,
 "nbformat_minor": 5
}
