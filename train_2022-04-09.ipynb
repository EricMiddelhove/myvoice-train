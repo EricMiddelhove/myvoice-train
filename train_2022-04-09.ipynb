{
 "cells": [
  {
   "cell_type": "code",
   "execution_count": 5,
   "id": "6184722c",
   "metadata": {},
   "outputs": [],
   "source": [
    "import tensorflow as tf\n",
    "import numpy as np\n",
    "import os\n",
    "\n",
    "from tensorflow.keras import Sequential\n",
    "from tensorflow.keras.layers import Dense, AveragePooling1D, Conv1D, DenseFeatures, Input, Flatten, GlobalAveragePooling1D"
   ]
  },
  {
   "cell_type": "markdown",
   "id": "6ab823ec",
   "metadata": {},
   "source": [
    "# Loading Dataset\n",
    "\n",
    "Our dataset contains four directories. Each directory referst to one class of motion to be classified. Each directory contains 395 recordings. \n",
    "\n",
    "---\n",
    "## Recordings\n",
    "Each line of the recording is the average value of the gyro sensor over 10 ms. The whole recording time is 2000ms. Therefore each recording has 200 lines.\n",
    "Each line of the recording contais six different values. They are the acceleration values on all three spatial axes as well as the gyroscope information on all three spatial axes. \n",
    "\n",
    "> The accelerometer values are deliberately not cleaned from earths acceleration.\n",
    "---\n",
    "## Reading the data\n",
    "\n",
    "For the reading of the data we iterate over all directories in the dataset directory, and the over each file in the gesture directory. We then save the data into a python list. We also save the desired classification outcome, at the same time, into another list. That way you will find the classification of the dataset at the same index of the label list as the data in the data list.\n"
   ]
  },
  {
   "cell_type": "code",
   "execution_count": 6,
   "id": "b346c095",
   "metadata": {},
   "outputs": [
    {
     "name": "stdout",
     "output_type": "stream",
     "text": [
      "(1584, 200, 6)\n",
      "(1584, 4)\n"
     ]
    }
   ],
   "source": [
    "dataset_dir = \"gestures\"\n",
    "\n",
    "gestures = [\"Computer\", \"Elephant\", \"Sorry\", \"No-Sign\"]\n",
    "\n",
    "dataset_values = []\n",
    "dataset_labels = []\n",
    "\n",
    "for gesture in gestures:\n",
    "    for filename in os.listdir(f\"{dataset_dir}/{gesture}\"):\n",
    "        with open(os.path.join(f\"{dataset_dir}/{gesture}\", filename), 'r') as file:\n",
    "            file_data = []\n",
    "\n",
    "            text = file.read()\n",
    "            lines = text.splitlines()\n",
    "\n",
    "            for line in lines:\n",
    "                int_values = []\n",
    "                for value in line.split():\n",
    "                    int_values.append(int(value))\n",
    "\n",
    "                file_data.append(int_values)\n",
    "\n",
    "            dataset_values.append(file_data)\n",
    "\n",
    "            if gesture == \"Computer\":\n",
    "                dataset_labels.append([1, 0, 0, 0])\n",
    "            elif gesture == \"Elephant\":\n",
    "                dataset_labels.append([0, 1, 0, 0])\n",
    "            elif gesture == \"Sorry\":\n",
    "                dataset_labels.append([0, 0, 1, 0])\n",
    "            elif gesture == \"No-Sign\":\n",
    "                dataset_labels.append([0, 0, 0, 1])\n",
    "            else:\n",
    "                print(\"You did not change the labeling of the dataset you blithering idiot\")\n",
    "\n",
    "dataset_values = np.array(dataset_values)\n",
    "dataset_labels = np.array(dataset_labels)\n",
    "\n",
    "print(dataset_values.shape)\n",
    "print(dataset_labels.shape)"
   ]
  },
  {
   "cell_type": "markdown",
   "id": "c6da2d42",
   "metadata": {},
   "source": [
    "## Creating the dataset\n",
    "\n",
    "We convert the two lists mentioned above into a tf.Dataset. \n",
    "\n",
    "---\n",
    "\n",
    "First we define SHUFFLE_BUFFER_SIZE and VALIDATION_SIZE. We want to shuffle the complete Dataset, therefore the shuffle buffer has the same size as the dataset itself. We want to have Validationset that is the size of about 30% of the whole Dataset.\n",
    "\n",
    "We create our dataset and shuffle it.\n",
    "\n",
    "For the validation set we take the defined amount from the front of the shuffled dataset. The rest is our training data."
   ]
  },
  {
   "cell_type": "code",
   "execution_count": 13,
   "id": "9ffe0ad7",
   "metadata": {},
   "outputs": [
    {
     "name": "stdout",
     "output_type": "stream",
     "text": [
      "475\n"
     ]
    }
   ],
   "source": [
    "DATASET_SIZE = len(dataset_values)\n",
    "\n",
    "SHUFFLE_BUFFER_SIZE = DATASET_SIZE\n",
    "VALIDATION_SIZE = int(DATASET_SIZE * 0.3)\n",
    "\n",
    "BATCH_SIZE = 64\n",
    "\n",
    "dataset = tf.data.Dataset.from_tensor_slices((dataset_values, dataset_labels))\n",
    "dataset = dataset.shuffle(SHUFFLE_BUFFER_SIZE)\n",
    "\n",
    "validation_dataset = dataset.take(VALIDATION_SIZE).batch(BATCH_SIZE)  \n",
    "train_dataset = dataset.skip(VALIDATION_SIZE).batch(BATCH_SIZE)\n",
    "\n",
    "# for values, labels in train_dataset.take(1):\n",
    "    # print(labels.numpy(), values.numpy())"
   ]
  },
  {
   "cell_type": "markdown",
   "id": "753f84e9",
   "metadata": {},
   "source": [
    "## The Model\n",
    "\n",
    "---"
   ]
  },
  {
   "cell_type": "code",
   "execution_count": 17,
   "id": "1c70548f",
   "metadata": {},
   "outputs": [
    {
     "name": "stdout",
     "output_type": "stream",
     "text": [
      "Model: \"sequential_4\"\n",
      "_________________________________________________________________\n",
      " Layer (type)                Output Shape              Param #   \n",
      "=================================================================\n",
      " conv1d_4 (Conv1D)           (None, 44, 125)           52625     \n",
      "                                                                 \n",
      " global_average_pooling1d_4   (None, 125)              0         \n",
      " (GlobalAveragePooling1D)                                        \n",
      "                                                                 \n",
      " dense_12 (Dense)            (None, 100)               12600     \n",
      "                                                                 \n",
      " dense_13 (Dense)            (None, 20)                2020      \n",
      "                                                                 \n",
      " dense_14 (Dense)            (None, 4)                 84        \n",
      "                                                                 \n",
      "=================================================================\n",
      "Total params: 67,329\n",
      "Trainable params: 67,329\n",
      "Non-trainable params: 0\n",
      "_________________________________________________________________\n",
      "Epoch 1/25\n",
      " 7/18 [==========>...................] - ETA: 0s - loss: 558.7578 - accuracy: 0.5246"
     ]
    },
    {
     "name": "stderr",
     "output_type": "stream",
     "text": [
      "2022-04-18 13:08:08.240769: I tensorflow/core/grappler/optimizers/custom_graph_optimizer_registry.cc:113] Plugin optimizer for device_type GPU is enabled.\n"
     ]
    },
    {
     "name": "stdout",
     "output_type": "stream",
     "text": [
      "18/18 [==============================] - 1s 19ms/step - loss: 288.7202 - accuracy: 0.7403 - val_loss: 62.8104 - val_accuracy: 0.9347\n",
      "Epoch 2/25\n",
      " 7/18 [==========>...................] - ETA: 0s - loss: 55.1617 - accuracy: 0.9397 "
     ]
    },
    {
     "name": "stderr",
     "output_type": "stream",
     "text": [
      "2022-04-18 13:08:08.577351: I tensorflow/core/grappler/optimizers/custom_graph_optimizer_registry.cc:113] Plugin optimizer for device_type GPU is enabled.\n"
     ]
    },
    {
     "name": "stdout",
     "output_type": "stream",
     "text": [
      "18/18 [==============================] - 0s 12ms/step - loss: 52.9018 - accuracy: 0.9279 - val_loss: 16.5763 - val_accuracy: 0.9389\n",
      "Epoch 3/25\n",
      "18/18 [==============================] - 0s 12ms/step - loss: 44.2443 - accuracy: 0.9170 - val_loss: 37.3393 - val_accuracy: 0.9326\n",
      "Epoch 4/25\n",
      "18/18 [==============================] - 0s 12ms/step - loss: 34.0358 - accuracy: 0.9459 - val_loss: 24.9678 - val_accuracy: 0.9684\n",
      "Epoch 5/25\n",
      "18/18 [==============================] - 0s 12ms/step - loss: 29.6947 - accuracy: 0.9477 - val_loss: 12.8926 - val_accuracy: 0.9600\n",
      "Epoch 6/25\n",
      "18/18 [==============================] - 0s 11ms/step - loss: 23.4718 - accuracy: 0.9513 - val_loss: 11.7683 - val_accuracy: 0.9705\n",
      "Epoch 7/25\n",
      "18/18 [==============================] - 0s 12ms/step - loss: 12.6761 - accuracy: 0.9594 - val_loss: 11.3155 - val_accuracy: 0.9726\n",
      "Epoch 8/25\n",
      "18/18 [==============================] - 0s 12ms/step - loss: 10.5475 - accuracy: 0.9630 - val_loss: 12.8120 - val_accuracy: 0.9768\n",
      "Epoch 9/25\n",
      "18/18 [==============================] - 0s 13ms/step - loss: 7.2070 - accuracy: 0.9739 - val_loss: 16.5034 - val_accuracy: 0.9726\n",
      "Epoch 10/25\n",
      "18/18 [==============================] - 0s 12ms/step - loss: 9.7464 - accuracy: 0.9693 - val_loss: 0.9383 - val_accuracy: 0.9853\n",
      "Epoch 11/25\n",
      "18/18 [==============================] - 0s 12ms/step - loss: 4.2919 - accuracy: 0.9784 - val_loss: 3.0926 - val_accuracy: 0.9789\n",
      "Epoch 12/25\n",
      "18/18 [==============================] - 0s 12ms/step - loss: 4.4083 - accuracy: 0.9684 - val_loss: 6.1173 - val_accuracy: 0.9768\n",
      "Epoch 13/25\n",
      "18/18 [==============================] - 0s 12ms/step - loss: 8.8691 - accuracy: 0.9666 - val_loss: 2.2567 - val_accuracy: 0.9768\n",
      "Epoch 14/25\n",
      "18/18 [==============================] - 0s 13ms/step - loss: 5.5820 - accuracy: 0.9720 - val_loss: 8.2670 - val_accuracy: 0.9768\n",
      "Epoch 15/25\n",
      "18/18 [==============================] - 0s 11ms/step - loss: 7.4287 - accuracy: 0.9711 - val_loss: 12.2649 - val_accuracy: 0.9600\n",
      "Epoch 16/25\n",
      "18/18 [==============================] - 0s 11ms/step - loss: 6.2851 - accuracy: 0.9711 - val_loss: 0.8637 - val_accuracy: 0.9853\n",
      "Epoch 17/25\n",
      "18/18 [==============================] - 0s 11ms/step - loss: 3.2590 - accuracy: 0.9820 - val_loss: 1.1130 - val_accuracy: 0.9895\n",
      "Epoch 18/25\n",
      "18/18 [==============================] - 0s 11ms/step - loss: 1.2073 - accuracy: 0.9865 - val_loss: 0.2625 - val_accuracy: 0.9895\n",
      "Epoch 19/25\n",
      "18/18 [==============================] - 0s 11ms/step - loss: 1.6999 - accuracy: 0.9892 - val_loss: 2.3277 - val_accuracy: 0.9768\n",
      "Epoch 20/25\n",
      "18/18 [==============================] - 0s 11ms/step - loss: 1.1879 - accuracy: 0.9838 - val_loss: 2.4509 - val_accuracy: 0.9747\n",
      "Epoch 21/25\n",
      "18/18 [==============================] - 0s 11ms/step - loss: 3.2503 - accuracy: 0.9802 - val_loss: 0.4605 - val_accuracy: 0.9853\n",
      "Epoch 22/25\n",
      "18/18 [==============================] - 0s 11ms/step - loss: 1.4550 - accuracy: 0.9865 - val_loss: 2.5406 - val_accuracy: 0.9789\n",
      "Epoch 23/25\n",
      "18/18 [==============================] - 0s 11ms/step - loss: 2.4110 - accuracy: 0.9838 - val_loss: 4.7661 - val_accuracy: 0.9705\n",
      "Epoch 24/25\n",
      "18/18 [==============================] - 0s 11ms/step - loss: 4.2442 - accuracy: 0.9684 - val_loss: 9.1904 - val_accuracy: 0.9684\n",
      "Epoch 25/25\n",
      "18/18 [==============================] - 0s 11ms/step - loss: 7.0822 - accuracy: 0.9639 - val_loss: 1.4529 - val_accuracy: 0.9895\n",
      "INFO:tensorflow:Assets written to: ./model/assets\n"
     ]
    },
    {
     "name": "stderr",
     "output_type": "stream",
     "text": [
      "INFO:tensorflow:Assets written to: ./model/assets\n"
     ]
    },
    {
     "name": "stdout",
     "output_type": "stream",
     "text": [
      "CPU times: user 5.2 s, sys: 2.91 s, total: 8.11 s\n",
      "Wall time: 5.9 s\n"
     ]
    }
   ],
   "source": [
    "%%time\n",
    "model = Sequential([\n",
    "    Conv1D(filters = 125, strides = 3, kernel_size=70, activation='relu', input_shape=(200, 6)),\n",
    "    GlobalAveragePooling1D(),\n",
    "    Dense(100, activation='relu'),\n",
    "    Dense(20, activation='relu'),\n",
    "    Dense(4, activation='softmax')\n",
    "])\n",
    "\n",
    "model.compile(optimizer='adam', loss=tf.keras.losses.CategoricalCrossentropy(), metrics=['accuracy'])\n",
    "model.build(input_shape=(1584, 200, 6))\n",
    "model.summary()\n",
    "model.fit(train_dataset, validation_data=validation_dataset, epochs=25)\n",
    "\n",
    "model.save(\"./model\", save_format='tf')\n",
    "model.save(\"./model.h5\", save_format='h5')\n"
   ]
  },
  {
   "cell_type": "code",
   "execution_count": 9,
   "id": "9124536f",
   "metadata": {},
   "outputs": [
    {
     "name": "stderr",
     "output_type": "stream",
     "text": [
      "2022-04-18 12:59:10.206566: W tensorflow/compiler/mlir/lite/python/tf_tfl_flatbuffer_helpers.cc:357] Ignored output_format.\n",
      "2022-04-18 12:59:10.206577: W tensorflow/compiler/mlir/lite/python/tf_tfl_flatbuffer_helpers.cc:360] Ignored drop_control_dependency.\n",
      "WARNING:absl:Buffer deduplication procedure will be skipped when flatbuffer library is not properly loaded\n",
      "2022-04-18 12:59:10.206650: I tensorflow/cc/saved_model/reader.cc:43] Reading SavedModel from: models/0.9900/model\n",
      "2022-04-18 12:59:10.207464: I tensorflow/cc/saved_model/reader.cc:78] Reading meta graph with tags { serve }\n",
      "2022-04-18 12:59:10.207469: I tensorflow/cc/saved_model/reader.cc:119] Reading SavedModel debug info (if present) from: models/0.9900/model\n",
      "2022-04-18 12:59:10.209550: I tensorflow/cc/saved_model/loader.cc:228] Restoring SavedModel bundle.\n",
      "2022-04-18 12:59:10.234875: I tensorflow/cc/saved_model/loader.cc:212] Running initialization op on SavedModel bundle at path: models/0.9900/model\n",
      "2022-04-18 12:59:10.242003: I tensorflow/cc/saved_model/loader.cc:301] SavedModel load for tags { serve }; Status: success: OK. Took 35354 microseconds.\n"
     ]
    },
    {
     "data": {
      "text/plain": [
       "324836"
      ]
     },
     "execution_count": 9,
     "metadata": {},
     "output_type": "execute_result"
    }
   ],
   "source": [
    "modeldir = 'models/0.9900/model'\n",
    "converter = tf.lite.TFLiteConverter.from_saved_model(modeldir)\n",
    "tflite_model = converter.convert()\n",
    "\n",
    "open(\"model.tflite\", \"wb\").write(tflite_model)"
   ]
  }
 ],
 "metadata": {
  "interpreter": {
   "hash": "b0fa6594d8f4cbf19f97940f81e996739fb7646882a419484c72d19e05852a7e"
  },
  "kernelspec": {
   "display_name": "Python 3.9.10 64-bit",
   "language": "python",
   "name": "python3"
  },
  "language_info": {
   "codemirror_mode": {
    "name": "ipython",
    "version": 3
   },
   "file_extension": ".py",
   "mimetype": "text/x-python",
   "name": "python",
   "nbconvert_exporter": "python",
   "pygments_lexer": "ipython3",
   "version": "3.8.13"
  }
 },
 "nbformat": 4,
 "nbformat_minor": 5
}
