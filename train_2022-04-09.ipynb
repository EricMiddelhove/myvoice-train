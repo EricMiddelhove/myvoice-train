{
 "cells": [
  {
   "cell_type": "code",
   "execution_count": 1,
   "id": "6184722c",
   "metadata": {},
   "outputs": [],
   "source": [
    "import tensorflow as tf\n",
    "import numpy as np\n",
    "import os\n",
    "\n",
    "from tensorflow.keras import Sequential\n",
    "from tensorflow.keras.layers import Dense, AveragePooling1D, Conv1D, DenseFeatures, Input, Flatten, GlobalAveragePooling1D"
   ]
  },
  {
   "cell_type": "markdown",
   "id": "6ab823ec",
   "metadata": {},
   "source": [
    "Load all gestures from disk and label them accordingly"
   ]
  },
  {
   "cell_type": "code",
   "execution_count": 2,
   "id": "b346c095",
   "metadata": {},
   "outputs": [
    {
     "name": "stdout",
     "output_type": "stream",
     "text": [
      "(1584, 200, 6)\n",
      "(1584, 4)\n"
     ]
    }
   ],
   "source": [
    "dataset_dir = \"gestures\"\n",
    "\n",
    "gestures = [\"Computer\", \"Elephant\", \"Sorry\", \"No-Sign\"]\n",
    "\n",
    "dataset_values = []\n",
    "dataset_labels = []\n",
    "\n",
    "for gesture in gestures:\n",
    "    for filename in os.listdir(f\"{dataset_dir}/{gesture}\"):\n",
    "        with open(os.path.join(f\"{dataset_dir}/{gesture}\", filename), 'r') as file:\n",
    "            file_data = []\n",
    "\n",
    "            text = file.read()\n",
    "            lines = text.splitlines()\n",
    "\n",
    "            for line in lines:\n",
    "                int_values = []\n",
    "                for value in line.split():\n",
    "                    int_values.append(int(value))\n",
    "\n",
    "                file_data.append(int_values)\n",
    "\n",
    "            dataset_values.append(file_data)\n",
    "\n",
    "            if gesture == \"Computer\":\n",
    "                dataset_labels.append([1, 0, 0, 0])\n",
    "            elif gesture == \"Elephant\":\n",
    "                dataset_labels.append([0, 1, 0, 0])\n",
    "            elif gesture == \"Sorry\":\n",
    "                dataset_labels.append([0, 0, 1, 0])\n",
    "            elif gesture == \"No-Sign\":\n",
    "                dataset_labels.append([0, 0, 0, 1])\n",
    "            else:\n",
    "                print(\"You did not change the labeling of the dataset you blithering idiot\")\n",
    "\n",
    "dataset_values = np.array(dataset_values)\n",
    "dataset_labels = np.array(dataset_labels)\n",
    "\n",
    "print(dataset_values.shape)\n",
    "print(dataset_labels.shape)"
   ]
  },
  {
   "cell_type": "markdown",
   "id": "c6da2d42",
   "metadata": {},
   "source": [
    "Load numpy array into tensorflow dataset"
   ]
  },
  {
   "cell_type": "code",
   "execution_count": 5,
   "id": "9ffe0ad7",
   "metadata": {},
   "outputs": [
    {
     "name": "stdout",
     "output_type": "stream",
     "text": [
      "[[1 0 0 0]\n",
      " [0 0 0 1]\n",
      " [0 1 0 0]\n",
      " [0 0 0 1]\n",
      " [1 0 0 0]\n",
      " [1 0 0 0]\n",
      " [1 0 0 0]\n",
      " [0 1 0 0]\n",
      " [0 0 1 0]\n",
      " [0 0 0 1]\n",
      " [0 1 0 0]\n",
      " [1 0 0 0]\n",
      " [1 0 0 0]\n",
      " [0 0 1 0]\n",
      " [0 0 0 1]\n",
      " [0 0 0 1]\n",
      " [0 1 0 0]\n",
      " [0 0 1 0]\n",
      " [0 0 0 1]\n",
      " [1 0 0 0]\n",
      " [1 0 0 0]\n",
      " [0 0 1 0]\n",
      " [0 0 0 1]\n",
      " [0 0 1 0]\n",
      " [0 0 0 1]\n",
      " [0 0 1 0]\n",
      " [0 1 0 0]\n",
      " [1 0 0 0]\n",
      " [0 0 0 1]\n",
      " [0 0 0 1]\n",
      " [0 1 0 0]\n",
      " [0 0 1 0]\n",
      " [0 0 0 1]\n",
      " [0 0 1 0]\n",
      " [0 1 0 0]\n",
      " [1 0 0 0]\n",
      " [0 0 0 1]\n",
      " [0 0 1 0]\n",
      " [0 0 1 0]\n",
      " [0 0 1 0]\n",
      " [0 0 1 0]\n",
      " [1 0 0 0]\n",
      " [0 1 0 0]\n",
      " [0 0 1 0]\n",
      " [0 0 0 1]\n",
      " [1 0 0 0]\n",
      " [0 0 1 0]\n",
      " [0 0 1 0]\n",
      " [0 0 1 0]\n",
      " [1 0 0 0]\n",
      " [1 0 0 0]\n",
      " [0 0 0 1]\n",
      " [0 0 0 1]\n",
      " [0 1 0 0]\n",
      " [0 1 0 0]\n",
      " [0 0 0 1]\n",
      " [0 0 0 1]\n",
      " [0 1 0 0]\n",
      " [0 1 0 0]\n",
      " [0 0 0 1]\n",
      " [0 0 1 0]\n",
      " [0 0 1 0]\n",
      " [0 0 0 1]\n",
      " [0 0 0 1]] [[[-11014   6841  11574   -902    170    -33]\n",
      "  [-11038   6785  11561  -1281    130    -91]\n",
      "  [-11049   6650  11545  -1724     74   -126]\n",
      "  ...\n",
      "  [-10489   6153  12758  -1588   -177    113]\n",
      "  [-10436   6013  12577  -1625   -265     69]\n",
      "  [-10341   5969  12573  -1801   -536    120]]\n",
      "\n",
      " [[-15628   6344   5252   5028   4902    539]\n",
      "  [-15556   6236   5362   3871   4815   1132]\n",
      "  [-15838   5988   5675   1723   4076   1823]\n",
      "  ...\n",
      "  [-15740   6630   5265  12790  -3191  -2879]\n",
      "  [-15634   6409   4922  10604  -2681  -2794]\n",
      "  [-15681   6286   4664   9223  -2061  -2741]]\n",
      "\n",
      " [[ -4440  23044  22212  16587   8975   5593]\n",
      "  [ -5807  24108  21131  14859   8605   8651]\n",
      "  [ -6453  24026  19465  11579   7281  12459]\n",
      "  ...\n",
      "  [  -208   1501  16344    163    361    -63]\n",
      "  [  -141   1467  16364   -107    310   -169]\n",
      "  [    67   1343  16558    392    706   -268]]\n",
      "\n",
      " ...\n",
      "\n",
      " [[  4570  12516   6362   1993   4832   -214]\n",
      "  [  4476  12360   6508   1812   4607   -811]\n",
      "  [  4408  12164   6430   2014   4559  -1697]\n",
      "  ...\n",
      "  [  5742  16188   7042    115   -425   -259]\n",
      "  [  5806  16116   7030    147   -574   -130]\n",
      "  [  5993  16198   6960    166   -407    -37]]\n",
      "\n",
      " [[-19209  10932   5889  -8032  -1333   8407]\n",
      "  [-19598  11178   6064  -7209  -2353   9761]\n",
      "  [-20057  11390   6024  -6157  -3426  11288]\n",
      "  ...\n",
      "  [-14718  10346   5274   5397   -860   5548]\n",
      "  [-14652  10514   5206   5195   -883   5807]\n",
      "  [-14476  10632   5200   4859   -858   5889]]\n",
      "\n",
      " [[-16957  11973    190  32767  28851  -4712]\n",
      "  [-18308  12585  -1190  32467  24481  -1568]\n",
      "  [-18561  13497  -2520  26000  19220    503]\n",
      "  ...\n",
      "  [-20722  15228  -6968 -29516   6680 -13168]\n",
      "  [-19894  12464  -6582 -32768  -5900 -22392]\n",
      "  [-18757   8816  -5010 -32764 -18747 -30944]]]\n"
     ]
    }
   ],
   "source": [
    "BATCH_SIZE = 64\n",
    "SHUFFLE_BUFFER_SIZE = 2000\n",
    "VALIDATION_SIZE = 100\n",
    "\n",
    "dataset = tf.data.Dataset.from_tensor_slices((dataset_values, dataset_labels))\n",
    "dataset = dataset.shuffle(SHUFFLE_BUFFER_SIZE)\n",
    "\n",
    "train_dataset = dataset.skip(VALIDATION_SIZE).batch(BATCH_SIZE)\n",
    "validation_dataset = dataset.take(VALIDATION_SIZE).batch(BATCH_SIZE)  \n",
    "\n",
    "for values, labels in train_dataset.take(1):\n",
    "    print(labels.numpy(), values.numpy())"
   ]
  },
  {
   "cell_type": "code",
   "execution_count": 11,
   "id": "1c70548f",
   "metadata": {},
   "outputs": [
    {
     "name": "stdout",
     "output_type": "stream",
     "text": [
      "Model: \"sequential_5\"\n",
      "_________________________________________________________________\n",
      " Layer (type)                Output Shape              Param #   \n",
      "=================================================================\n",
      " conv1d_5 (Conv1D)           (None, 132, 4)            1660      \n",
      "                                                                 \n",
      " global_average_pooling1d_5   (None, 4)                0         \n",
      " (GlobalAveragePooling1D)                                        \n",
      "                                                                 \n",
      " dense_5 (Dense)             (None, 4)                 20        \n",
      "                                                                 \n",
      "=================================================================\n",
      "Total params: 1,680\n",
      "Trainable params: 1,680\n",
      "Non-trainable params: 0\n",
      "_________________________________________________________________\n",
      "Epoch 1/20\n",
      "15/24 [=================>............] - ETA: 0s - loss: 1780.9850 - accuracy: 0.3667"
     ]
    },
    {
     "name": "stderr",
     "output_type": "stream",
     "text": [
      "2022-04-15 16:17:25.245328: I tensorflow/core/grappler/optimizers/custom_graph_optimizer_registry.cc:113] Plugin optimizer for device_type GPU is enabled.\n"
     ]
    },
    {
     "name": "stdout",
     "output_type": "stream",
     "text": [
      "24/24 [==============================] - 0s 12ms/step - loss: 1283.5197 - accuracy: 0.3753 - val_loss: 238.4717 - val_accuracy: 0.5100\n",
      "Epoch 2/20\n",
      "16/24 [===================>..........] - ETA: 0s - loss: 158.2547 - accuracy: 0.4043"
     ]
    },
    {
     "name": "stderr",
     "output_type": "stream",
     "text": [
      "2022-04-15 16:17:25.562906: I tensorflow/core/grappler/optimizers/custom_graph_optimizer_registry.cc:113] Plugin optimizer for device_type GPU is enabled.\n"
     ]
    },
    {
     "name": "stdout",
     "output_type": "stream",
     "text": [
      "24/24 [==============================] - 0s 8ms/step - loss: 152.2147 - accuracy: 0.4097 - val_loss: 26.7438 - val_accuracy: 0.3200\n",
      "Epoch 3/20\n",
      "24/24 [==============================] - 0s 8ms/step - loss: 74.2808 - accuracy: 0.4319 - val_loss: 106.9065 - val_accuracy: 0.4200\n",
      "Epoch 4/20\n",
      "24/24 [==============================] - 0s 8ms/step - loss: 50.2895 - accuracy: 0.4360 - val_loss: 150.2161 - val_accuracy: 0.3000\n",
      "Epoch 5/20\n",
      "24/24 [==============================] - 0s 8ms/step - loss: 33.9371 - accuracy: 0.4394 - val_loss: 56.0032 - val_accuracy: 0.4100\n",
      "Epoch 6/20\n",
      "24/24 [==============================] - 0s 8ms/step - loss: 34.4366 - accuracy: 0.4555 - val_loss: 24.3813 - val_accuracy: 0.4600\n",
      "Epoch 7/20\n",
      "24/24 [==============================] - 0s 8ms/step - loss: 21.0716 - accuracy: 0.4629 - val_loss: 18.7620 - val_accuracy: 0.5200\n",
      "Epoch 8/20\n",
      "24/24 [==============================] - 0s 8ms/step - loss: 25.8368 - accuracy: 0.4454 - val_loss: 6.9571 - val_accuracy: 0.3900\n",
      "Epoch 9/20\n",
      "24/24 [==============================] - 0s 8ms/step - loss: 24.8109 - accuracy: 0.4461 - val_loss: 8.3629 - val_accuracy: 0.4500\n",
      "Epoch 10/20\n",
      "24/24 [==============================] - 0s 8ms/step - loss: 22.7297 - accuracy: 0.4394 - val_loss: 1.5142 - val_accuracy: 0.5100\n",
      "Epoch 11/20\n",
      "24/24 [==============================] - 0s 8ms/step - loss: 16.4894 - accuracy: 0.4656 - val_loss: 29.2333 - val_accuracy: 0.4100\n",
      "Epoch 12/20\n",
      "24/24 [==============================] - 0s 8ms/step - loss: 17.2427 - accuracy: 0.4394 - val_loss: 4.9407 - val_accuracy: 0.3600\n",
      "Epoch 13/20\n",
      "24/24 [==============================] - 0s 8ms/step - loss: 18.5582 - accuracy: 0.4326 - val_loss: 34.5508 - val_accuracy: 0.4500\n",
      "Epoch 14/20\n",
      "24/24 [==============================] - 0s 9ms/step - loss: 12.0080 - accuracy: 0.4582 - val_loss: 25.4774 - val_accuracy: 0.4000\n",
      "Epoch 15/20\n",
      "24/24 [==============================] - 0s 8ms/step - loss: 14.4967 - accuracy: 0.4474 - val_loss: 3.3825 - val_accuracy: 0.5500\n",
      "Epoch 16/20\n",
      "24/24 [==============================] - 0s 8ms/step - loss: 11.4905 - accuracy: 0.4394 - val_loss: 9.3958 - val_accuracy: 0.5000\n",
      "Epoch 17/20\n",
      "24/24 [==============================] - 0s 8ms/step - loss: 13.3896 - accuracy: 0.4414 - val_loss: 6.5946 - val_accuracy: 0.4900\n",
      "Epoch 18/20\n",
      "24/24 [==============================] - 0s 8ms/step - loss: 11.3993 - accuracy: 0.4400 - val_loss: 2.1599 - val_accuracy: 0.5700\n",
      "Epoch 19/20\n",
      "24/24 [==============================] - 0s 8ms/step - loss: 9.7953 - accuracy: 0.4474 - val_loss: 15.2384 - val_accuracy: 0.4300\n",
      "Epoch 20/20\n",
      "24/24 [==============================] - 0s 8ms/step - loss: 9.6683 - accuracy: 0.4353 - val_loss: 17.0045 - val_accuracy: 0.3900\n"
     ]
    },
    {
     "data": {
      "text/plain": [
       "<keras.callbacks.History at 0x284d70af0>"
      ]
     },
     "execution_count": 11,
     "metadata": {},
     "output_type": "execute_result"
    }
   ],
   "source": [
    "model = Sequential([\n",
    "    Conv1D(filters = 6, kernel_size=70, activation='relu', input_shape=(200, 6)),\n",
    "    GlobalAveragePooling1D(),\n",
    "    Dense(20, activation='relu'),\n",
    "    Dense(4, activation='softmax')\n",
    "])\n",
    "\n",
    "model.build(input_shape=(1584, 200, 6))\n",
    "model.compile(optimizer='adam', loss=tf.keras.losses.CategoricalCrossentropy(), metrics=['accuracy'])\n",
    "model.summary()\n",
    "\n",
    "\n",
    "\n",
    "model.fit(train_dataset, validation_data=validation_dataset, epochs=20)"
   ]
  }
 ],
 "metadata": {
  "interpreter": {
   "hash": "b0fa6594d8f4cbf19f97940f81e996739fb7646882a419484c72d19e05852a7e"
  },
  "kernelspec": {
   "display_name": "Python 3.9.10 64-bit",
   "language": "python",
   "name": "python3"
  },
  "language_info": {
   "codemirror_mode": {
    "name": "ipython",
    "version": 3
   },
   "file_extension": ".py",
   "mimetype": "text/x-python",
   "name": "python",
   "nbconvert_exporter": "python",
   "pygments_lexer": "ipython3",
   "version": "3.8.13"
  }
 },
 "nbformat": 4,
 "nbformat_minor": 5
}
